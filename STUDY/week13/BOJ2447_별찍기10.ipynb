{
 "cells": [
  {
   "cell_type": "code",
   "execution_count": 1,
   "id": "907d32b9-adf2-4d9e-a77a-8d7a1a37953c",
   "metadata": {},
   "outputs": [
    {
     "name": "stdin",
     "output_type": "stream",
     "text": [
      " 27\n"
     ]
    },
    {
     "name": "stdout",
     "output_type": "stream",
     "text": [
      "***************************\n",
      "* ** ** ** ** ** ** ** ** *\n",
      "***************************\n",
      "***   ******   ******   ***\n",
      "* *   * ** *   * ** *   * *\n",
      "***   ******   ******   ***\n",
      "***************************\n",
      "* ** ** ** ** ** ** ** ** *\n",
      "***************************\n",
      "*********         *********\n",
      "* ** ** *         * ** ** *\n",
      "*********         *********\n",
      "***   ***         ***   ***\n",
      "* *   * *         * *   * *\n",
      "***   ***         ***   ***\n",
      "*********         *********\n",
      "* ** ** *         * ** ** *\n",
      "*********         *********\n",
      "***************************\n",
      "* ** ** ** ** ** ** ** ** *\n",
      "***************************\n",
      "***   ******   ******   ***\n",
      "* *   * ** *   * ** *   * *\n",
      "***   ******   ******   ***\n",
      "***************************\n",
      "* ** ** ** ** ** ** ** ** *\n",
      "***************************\n"
     ]
    }
   ],
   "source": [
    "N = int(input())\n",
    "\n",
    "def draw(num):\n",
    "    if num == 1:    # num이 27이면 -> 9 -> 3 -> draw(1)일때 return\n",
    "        return '*'\n",
    "\n",
    "    stars = draw(num // 3)\n",
    "    output = []     # return후 stars로 사용됨\n",
    "\n",
    "    # 별 그리기\n",
    "    for star in stars:\n",
    "        output.append(star * 3)\n",
    "    for star in stars:\n",
    "        output.append(star + ' ' * (num//3) + star)\n",
    "    for star in stars:\n",
    "        output.append(star * 3)\n",
    "    return output   # 별 그리기 종료 후 이전에 호출된 함수 위치로.\n",
    "\n",
    "\n",
    "print(*draw(N),sep='\\n') "
   ]
  },
  {
   "attachments": {},
   "cell_type": "markdown",
   "id": "d7c8c019-600a-4fda-81f8-3a11c28965c1",
   "metadata": {},
   "source": [
    "## **리뷰**\n",
    "1. 이해가 안돼서 서칭했다.\n",
    "2. 그래도 잘 모르겠어서 손으로 그려봤다.\n",
    "3. 다시 풀면 또 모를 것 같다.\n",
    "\n",
    "<img src=\"./draw_stars_recur.jpg\" width=\"600px\" height=\"600px\" alt=\"별찍기_재귀_그림\">\n"
   ]
  }
 ],
 "metadata": {
  "kernelspec": {
   "display_name": "Python 3 (ipykernel)",
   "language": "python",
   "name": "python3"
  },
  "language_info": {
   "codemirror_mode": {
    "name": "ipython",
    "version": 3
   },
   "file_extension": ".py",
   "mimetype": "text/x-python",
   "name": "python",
   "nbconvert_exporter": "python",
   "pygments_lexer": "ipython3",
   "version": "3.9.13"
  }
 },
 "nbformat": 4,
 "nbformat_minor": 5
}
